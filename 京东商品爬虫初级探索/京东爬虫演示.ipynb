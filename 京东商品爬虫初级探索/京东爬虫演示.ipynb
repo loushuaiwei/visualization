{
 "cells": [
  {
   "cell_type": "code",
   "execution_count": 2,
   "metadata": {},
   "outputs": [],
   "source": [
    "# -*- coding: utf-8 -*-\n",
    "# 开发团队   ：追梦\n",
    "# 开发人员   ：yuanyiyu\n",
    "# 开发时间   ：2020/6/1  18:19\n",
    "import os\n",
    "import csv\n",
    "import time\n",
    "import random\n",
    "import pickle\n",
    "from DecryptLogin import login"
   ]
  },
  {
   "cell_type": "code",
   "execution_count": 3,
   "metadata": {},
   "outputs": [],
   "source": [
    "class JDCrawler():\n",
    "    def __init__(self):\n",
    "        if os.path.isfile('session.pkl'):\n",
    "            self.session = pickle.load(open('session.pkl', 'rb'))\n",
    "            self.session.headers.update({'Referer': ''})\n",
    "        else:\n",
    "            self.session = self.login()\n",
    "            with open('session.pkl', 'wb') as session_file:\n",
    "                pickle.dump(self.session, session_file)\n",
    "                session_file.close()\n",
    "\n",
    "    def login(self):\n",
    "        lg = login.Login()\n",
    "        infos_return, session = lg.jingdong()\n",
    "        return session\n",
    "\n",
    "    def run(self):\n",
    "        url = 'https://search-x.jd.com/Search?'\n",
    "        while True:\n",
    "            good_name = input('请输入你想抓取的商品：')\n",
    "            goods_info_list = []\n",
    "            page = 1\n",
    "            time_point = 1\n",
    "            interval = random.randint(1, 5)\n",
    "            while True:\n",
    "                params = {\n",
    "                    'area': '19',\n",
    "                    'enc': 'utf-8',\n",
    "                    'keyword': good_name,\n",
    "                    'adType': '7',\n",
    "                    'page': str(page),\n",
    "                    'ad_ids': '291:25',\n",
    "                    'xtest': 'new_search',\n",
    "                    '_': str(int(time.time() * 1000))\n",
    "                }\n",
    "                respone = self.session.get(url, params=params)\n",
    "                respone_json = respone.json()\n",
    "                all_items = respone_json.get('291', [])\n",
    "                if (respone.status_code != 200):\n",
    "                    print('[INFO]: 发生了一些错误，无法正常！连接请重新检查参数')\n",
    "                    # break\n",
    "                if (len(all_items) == 0):\n",
    "                    print(f'[INFO]: 关于{good_name}的商品数据抓取完毕, 共抓取到{len(goods_info_list)}条数据...')\n",
    "                    break\n",
    "                for item in all_items:\n",
    "                    title = f\"{item.get('ad_title', '')}\".replace(r'<font class=\"skcolor_ljg\">', '').replace('</font>',\n",
    "                                                                                                             '').replace(\n",
    "                        ' ', '')\n",
    "                    goods_info_list.append(['https://img10.360buyimg.com/n7/' + item.get('image_url', ''),\n",
    "                                            item.get('pc_price', ''),\n",
    "                                            item.get('shop_link', {}).get('shop_name', ''),\n",
    "                                            item.get('comment_num', ''),\n",
    "                                            item.get('link_url', ''),\n",
    "                                            title,\n",
    "                                            item.get('good_rate', '')])\n",
    "                page += 1\n",
    "                time_point += 1\n",
    "                if time_point == interval:\n",
    "                    time.sleep(random.randint(50, 60) + random.random() * 10)\n",
    "                    time_point = 0\n",
    "                else:\n",
    "                    time.sleep(random.random() + 1)\n",
    "            self.save(goods_info_list, good_name + '.csv')\n",
    "            \n",
    "    def save(self, data, save_path):\n",
    "        header = ['图片地址', '商品价格', '商店名称', '评论数量', '商品链接', '标题', '商品比重']\n",
    "        save_file = open(save_path, 'w', encoding='utf-8', newline='')\n",
    "        file_csv = csv.writer(save_file)\n",
    "        file_csv.writerow(header)\n",
    "        file_csv.writerows(data)\n",
    "        save_file.close()"
   ]
  },
  {
   "cell_type": "code",
   "execution_count": null,
   "metadata": {},
   "outputs": [
    {
     "name": "stdout",
     "output_type": "stream",
     "text": [
      "[INFO]: Account -> jd_PBKsPSKzLjQF, login successfully...\n",
      "请输入你想抓取的商品：ipad air2019\n",
      "[INFO]: 关于ipad air2019的商品数据抓取完毕, 共抓取到98条数据...\n",
      "请输入你想抓取的商品：iphone11\n",
      "[INFO]: 关于iphone11的商品数据抓取完毕, 共抓取到135条数据...\n",
      "请输入你想抓取的商品：手机\n",
      "[INFO]: 关于手机的商品数据抓取完毕, 共抓取到300条数据...\n",
      "请输入你想抓取的商品：\n",
      "[INFO]: 关于的商品数据抓取完毕, 共抓取到0条数据...\n",
      "请输入你想抓取的商品：\n",
      "[INFO]: 关于的商品数据抓取完毕, 共抓取到0条数据...\n"
     ]
    }
   ],
   "source": [
    "if __name__ == '__main__':\n",
    "    crawler = JDCrawler()\n",
    "    crawler.run()"
   ]
  },
  {
   "cell_type": "code",
   "execution_count": null,
   "metadata": {},
   "outputs": [],
   "source": []
  }
 ],
 "metadata": {
  "kernelspec": {
   "display_name": "Python 3.7.3 64-bit ('base': conda)",
   "language": "python",
   "name": "python37364bitbaseconda9b44b33284ac48f4a3432516ffb23737"
  },
  "language_info": {
   "codemirror_mode": {
    "name": "ipython",
    "version": 3
   },
   "file_extension": ".py",
   "mimetype": "text/x-python",
   "name": "python",
   "nbconvert_exporter": "python",
   "pygments_lexer": "ipython3",
   "version": "3.7.3"
  },
  "latex_envs": {
   "LaTeX_envs_menu_present": true,
   "autoclose": false,
   "autocomplete": true,
   "bibliofile": "biblio.bib",
   "cite_by": "apalike",
   "current_citInitial": 1,
   "eqLabelWithNumbers": true,
   "eqNumInitial": 1,
   "hotkeys": {
    "equation": "Ctrl-E",
    "itemize": "Ctrl-I"
   },
   "labels_anchors": false,
   "latex_user_defs": false,
   "report_style_numbering": false,
   "user_envs_cfg": false
  }
 },
 "nbformat": 4,
 "nbformat_minor": 2
}
